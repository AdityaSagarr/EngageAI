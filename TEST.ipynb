{
 "cells": [
  {
   "cell_type": "markdown",
   "id": "73a2f65c",
   "metadata": {},
   "source": [
    "## This notebook is just to test the various functions of the project"
   ]
  },
  {
   "attachments": {
    "image.png": {
     "image/png": "[encoded data removed]"
    }
   },
   "cell_type": "markdown",
   "id": "7a50bb90",
   "metadata": {},
   "source": [
    "![image.png](attachment:image.png)"
   ]
  },
  {
   "cell_type": "code",
   "execution_count": 1,
   "id": "5b7a1544",
   "metadata": {},
   "outputs": [
    {
     "name": "stderr",
     "output_type": "stream",
     "text": [
      "USER_AGENT environment variable not set, consider setting it to identify your requests.\n"
     ]
    }
   ],
   "source": [
    "import streamlit as st\n",
    "from scraper import scrape\n",
    "from arrange import arrange_dict\n",
    "from database import db_start, db_fetch\n",
    "from email_generator import generate_mail\n",
    "#=======\n",
    "\n",
    "from langchain_community.document_loaders import WebBaseLoader\n",
    "from langchain_core.prompts import PromptTemplate\n",
    "from langchain_groq import ChatGroq\n",
    "from langchain_core.output_parsers import JsonOutputParser\n",
    "import pandas as pd\n",
    "import uuid\n",
    "import chromadb"
   ]
  },
  {
   "cell_type": "code",
   "execution_count": 2,
   "id": "993a1722",
   "metadata": {},
   "outputs": [],
   "source": [
    "\n",
    "\n",
    "# Initialize the ChatGroq model\n",
    "llm = ChatGroq(\n",
    "    model=\"mixtral-8x7b-32768\",\n",
    "    temperature=0,\n",
    "    max_tokens=None,\n",
    "    timeout=None,\n",
    "    max_retries=2,\n",
    "    groq_api_key='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'\n",
    ")\n",
    "\n"
   ]
  },
  {
   "cell_type": "code",
   "execution_count": 3,
   "id": "f50af1d1",
   "metadata": {},
   "outputs": [],
   "source": [
    "def main(job_link):\n",
    "    # Step 1: Scrape job page content\n",
    "    page_content = scrape(job_link)\n",
    "    \n",
    "    # Step 2: Process the scraped content to get job details\n",
    "    job_data = arrange_dict(page_content,llm)\n",
    "    \n",
    "    # Step 3: Initialize ChromaDB\n",
    "    collection = db_start()\n",
    "    \n",
    "    # Step 4: Fetch relevant portfolio links using skills from job_data\n",
    "    fetched_links = db_fetch(collection, job_data['skills'])\n",
    "    \n",
    "    # Step 5: Generate email using the job data and fetched links\n",
    "    email_output = generate_mail(job_data, fetched_links,llm)\n",
    "    \n",
    "    # Print the generated email output\n",
    "    print(email_output)\n"
   ]
  },
  {
   "cell_type": "code",
   "execution_count": 5,
   "id": "23b264a1",
   "metadata": {},
   "outputs": [
    {
     "name": "stdout",
     "output_type": "stream",
     "text": [
      "Subject: Seamless Data Engineering Solutions for Aspire from AtliQ\n",
      "\n",
      "Dear Hiring Manager,\n",
      "\n",
      "I hope this email finds you well. I came across the Data Engineer Intern position at Aspire and noticed the emphasis on data infrastructure, extraction, transformation, and quality. As a Business Development Executive at AtliQ, I am excited to share how our expertise in AI & Software Consulting can help fulfill your needs.\n",
      "\n",
      "AtliQ has a proven track record of delivering tailored data engineering solutions that drive scalability, process optimization, cost reduction, and overall efficiency. Our portfolio includes successful projects utilizing Python, SQL, and relational databases, which are key skills required for the role. You can find our relevant work here: <https://example.com/ml-python-portfolio> and <https://example.com/python-portfolio>.\n",
      "\n",
      "Our team excels in:\n",
      "\n",
      "1. Designing, developing, and maintaining data pipelines using Python.\n",
      "2. Integrating various data sources using tools like Airbyte.\n",
      "3. Managing workflows with Apache Airflow.\n",
      "4. Ensuring data quality, reliability, and trustworthiness.\n",
      "5. Implementing coding standards, best practices, and code reviews.\n",
      "6. Documenting data engineering processes and workflows.\n",
      "7. Improving observability, testability, and optimization of data pipelines.\n",
      "\n",
      "Our data engineering professionals possess strong analytical and problem-solving skills, with working proficiency in verbal and written English. We are confident that our expertise aligns with Aspire's requirements and can contribute significantly to your success.\n",
      "\n",
      "We would be thrilled to discuss further how AtliQ can support Aspire's mission and contribute to your growth. Please let me know if you are interested in scheduling a call.\n",
      "\n",
      "Best regards,\n",
      "\n",
      "Mohan\n",
      "Business Development Executive\n",
      "AtliQ AI & Software Consulting\n"
     ]
    }
   ],
   "source": [
    "# Test main():\n",
    "#url=\"https://www.amazon.jobs/en/jobs/2783189/data-engineer-ii-amazon-jwo-tech?cmpid=SPLICX0248M&ss=paid&utm_campaign=cxro&utm_content=job_posting&utm_medium=social_media&utm_source=linkedin.com\"\n",
    "url=\"https://job-boards.greenhouse.io/aspire/jobs/5319109004?gh_src=499caf134us\"\n",
    "#url=\"https://www.google.com/about/careers/applications/jobs/results/115049310369784518-software-engineer/?src=Online/LinkedIn/linkedin_us&utm_source=linkedin&utm_medium=jobposting&utm_campaign=contract\"\n",
    "#url=\"https://careers.ibm.com/job/20893413/data-engineer-big-data-aws-bangalore-in/?codes=SN_LinkedIn&Codes=SN_LinkedIn\"\n",
    "main(url)"
   ]
  },
  {
   "cell_type": "code",
   "execution_count": 2,
   "id": "4c37fb99",
   "metadata": {
    "scrolled": true
   },
   "outputs": [
    {
     "name": "stdout",
     "output_type": "stream",
     "text": [
      "^C\n"
     ]
    }
   ],
   "source": [
    "!streamlit run app.py"
   ]
  },
  {
   "cell_type": "code",
   "execution_count": null,
   "id": "0f92e25a",
   "metadata": {},
   "outputs": [],
   "source": []
  }
 ],
 "metadata": {
  "kernelspec": {
   "display_name": "Python (env2)",
   "language": "python",
   "name": "env2"
  },
  "language_info": {
   "codemirror_mode": {
    "name": "ipython",
    "version": 3
   },
   "file_extension": ".py",
   "mimetype": "text/x-python",
   "name": "python",
   "nbconvert_exporter": "python",
   "pygments_lexer": "ipython3",
   "version": "3.9.5"
  }
 },
 "nbformat": 4,
 "nbformat_minor": 5
}
